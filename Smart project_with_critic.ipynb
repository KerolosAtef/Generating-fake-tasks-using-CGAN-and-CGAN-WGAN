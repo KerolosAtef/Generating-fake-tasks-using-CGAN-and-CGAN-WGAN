{
 "cells": [
  {
   "cell_type": "markdown",
   "source": [
    "# Import important dataset"
   ],
   "metadata": {
    "collapsed": false,
    "pycharm": {
     "name": "#%% md\n"
    }
   }
  },
  {
   "cell_type": "code",
   "execution_count": 6,
   "outputs": [],
   "source": [
    "# !pip install imbalanced-learn"
   ],
   "metadata": {
    "collapsed": false,
    "pycharm": {
     "name": "#%%\n"
    }
   }
  },
  {
   "cell_type": "code",
   "execution_count": null,
   "metadata": {
    "id": "-8427_tP1JEW",
    "pycharm": {
     "name": "#%%\n",
     "is_executing": true
    }
   },
   "outputs": [],
   "source": [
    "import numpy as np\n",
    "import tensorflow as tf\n",
    "from tensorflow import keras\n",
    "from keras import layers\n",
    "import pandas as pd\n",
    "import matplotlib.pyplot as plt\n",
    "import seaborn as sns\n",
    "import torch\n",
    "%matplotlib inline\n",
    "seed = 42\n",
    "tf.random.set_seed(seed)"
   ]
  },
  {
   "cell_type": "markdown",
   "source": [
    "# Download MCS dataset"
   ],
   "metadata": {
    "collapsed": false,
    "pycharm": {
     "name": "#%% md\n"
    }
   }
  },
  {
   "cell_type": "code",
   "execution_count": 116,
   "outputs": [],
   "source": [
    "# !gdown --id 11_0c5fvFpydBb0-pWCDcxzp3-ZiUtKGX"
   ],
   "metadata": {
    "collapsed": false,
    "pycharm": {
     "name": "#%%\n"
    }
   }
  },
  {
   "cell_type": "code",
   "execution_count": 117,
   "outputs": [
    {
     "data": {
      "text/plain": "         ID   Latitude  Longitude  Day  Hour  Minute  Duration  RemainingTime  \\\n0         1  45.442142 -75.303369    1     4      13        40             40   \n1         1  45.442154 -75.304366    1     4      23        40             30   \n2         1  45.442104 -75.303963    1     4      33        40             20   \n3         1  45.441868 -75.303577    1     4      43        40             10   \n4         2  45.447727 -75.147722    2    15      49        30             30   \n...     ...        ...        ...  ...   ...     ...       ...            ...   \n14479  3999  45.445303 -75.165596    2     1      18        20             20   \n14480  3999  45.445574 -75.165168    2     1      28        20             10   \n14481  4000  45.436682 -75.152416    0    12      21        30             30   \n14482  4000  45.436978 -75.153278    0    12      31        30             20   \n14483  4000  45.436983 -75.153240    0    12      41        30             10   \n\n       Resources  Coverage  OnPeakHours  GridNumber  Ligitimacy  \n0              9        91            0      131380           1  \n1              9        91            0      131380           1  \n2              9        91            0      121996           1  \n3              9        91            0      121996           1  \n4              5        47            0      140784           1  \n...          ...       ...          ...         ...         ...  \n14479         10        80            0      131397           1  \n14480         10        80            0      131397           1  \n14481          4        63            0      122015           1  \n14482          4        63            0      122015           1  \n14483          4        63            0      122015           1  \n\n[14484 rows x 13 columns]",
      "text/html": "<div>\n<style scoped>\n    .dataframe tbody tr th:only-of-type {\n        vertical-align: middle;\n    }\n\n    .dataframe tbody tr th {\n        vertical-align: top;\n    }\n\n    .dataframe thead th {\n        text-align: right;\n    }\n</style>\n<table border=\"1\" class=\"dataframe\">\n  <thead>\n    <tr style=\"text-align: right;\">\n      <th></th>\n      <th>ID</th>\n      <th>Latitude</th>\n      <th>Longitude</th>\n      <th>Day</th>\n      <th>Hour</th>\n      <th>Minute</th>\n      <th>Duration</th>\n      <th>RemainingTime</th>\n      <th>Resources</th>\n      <th>Coverage</th>\n      <th>OnPeakHours</th>\n      <th>GridNumber</th>\n      <th>Ligitimacy</th>\n    </tr>\n  </thead>\n  <tbody>\n    <tr>\n      <th>0</th>\n      <td>1</td>\n      <td>45.442142</td>\n      <td>-75.303369</td>\n      <td>1</td>\n      <td>4</td>\n      <td>13</td>\n      <td>40</td>\n      <td>40</td>\n      <td>9</td>\n      <td>91</td>\n      <td>0</td>\n      <td>131380</td>\n      <td>1</td>\n    </tr>\n    <tr>\n      <th>1</th>\n      <td>1</td>\n      <td>45.442154</td>\n      <td>-75.304366</td>\n      <td>1</td>\n      <td>4</td>\n      <td>23</td>\n      <td>40</td>\n      <td>30</td>\n      <td>9</td>\n      <td>91</td>\n      <td>0</td>\n      <td>131380</td>\n      <td>1</td>\n    </tr>\n    <tr>\n      <th>2</th>\n      <td>1</td>\n      <td>45.442104</td>\n      <td>-75.303963</td>\n      <td>1</td>\n      <td>4</td>\n      <td>33</td>\n      <td>40</td>\n      <td>20</td>\n      <td>9</td>\n      <td>91</td>\n      <td>0</td>\n      <td>121996</td>\n      <td>1</td>\n    </tr>\n    <tr>\n      <th>3</th>\n      <td>1</td>\n      <td>45.441868</td>\n      <td>-75.303577</td>\n      <td>1</td>\n      <td>4</td>\n      <td>43</td>\n      <td>40</td>\n      <td>10</td>\n      <td>9</td>\n      <td>91</td>\n      <td>0</td>\n      <td>121996</td>\n      <td>1</td>\n    </tr>\n    <tr>\n      <th>4</th>\n      <td>2</td>\n      <td>45.447727</td>\n      <td>-75.147722</td>\n      <td>2</td>\n      <td>15</td>\n      <td>49</td>\n      <td>30</td>\n      <td>30</td>\n      <td>5</td>\n      <td>47</td>\n      <td>0</td>\n      <td>140784</td>\n      <td>1</td>\n    </tr>\n    <tr>\n      <th>...</th>\n      <td>...</td>\n      <td>...</td>\n      <td>...</td>\n      <td>...</td>\n      <td>...</td>\n      <td>...</td>\n      <td>...</td>\n      <td>...</td>\n      <td>...</td>\n      <td>...</td>\n      <td>...</td>\n      <td>...</td>\n      <td>...</td>\n    </tr>\n    <tr>\n      <th>14479</th>\n      <td>3999</td>\n      <td>45.445303</td>\n      <td>-75.165596</td>\n      <td>2</td>\n      <td>1</td>\n      <td>18</td>\n      <td>20</td>\n      <td>20</td>\n      <td>10</td>\n      <td>80</td>\n      <td>0</td>\n      <td>131397</td>\n      <td>1</td>\n    </tr>\n    <tr>\n      <th>14480</th>\n      <td>3999</td>\n      <td>45.445574</td>\n      <td>-75.165168</td>\n      <td>2</td>\n      <td>1</td>\n      <td>28</td>\n      <td>20</td>\n      <td>10</td>\n      <td>10</td>\n      <td>80</td>\n      <td>0</td>\n      <td>131397</td>\n      <td>1</td>\n    </tr>\n    <tr>\n      <th>14481</th>\n      <td>4000</td>\n      <td>45.436682</td>\n      <td>-75.152416</td>\n      <td>0</td>\n      <td>12</td>\n      <td>21</td>\n      <td>30</td>\n      <td>30</td>\n      <td>4</td>\n      <td>63</td>\n      <td>0</td>\n      <td>122015</td>\n      <td>1</td>\n    </tr>\n    <tr>\n      <th>14482</th>\n      <td>4000</td>\n      <td>45.436978</td>\n      <td>-75.153278</td>\n      <td>0</td>\n      <td>12</td>\n      <td>31</td>\n      <td>30</td>\n      <td>20</td>\n      <td>4</td>\n      <td>63</td>\n      <td>0</td>\n      <td>122015</td>\n      <td>1</td>\n    </tr>\n    <tr>\n      <th>14483</th>\n      <td>4000</td>\n      <td>45.436983</td>\n      <td>-75.153240</td>\n      <td>0</td>\n      <td>12</td>\n      <td>41</td>\n      <td>30</td>\n      <td>10</td>\n      <td>4</td>\n      <td>63</td>\n      <td>0</td>\n      <td>122015</td>\n      <td>1</td>\n    </tr>\n  </tbody>\n</table>\n<p>14484 rows × 13 columns</p>\n</div>"
     },
     "execution_count": 117,
     "metadata": {},
     "output_type": "execute_result"
    }
   ],
   "source": [
    "df = pd.read_csv('MCSDatasetNEXTCONLab.csv')\n",
    "df"
   ],
   "metadata": {
    "collapsed": false,
    "pycharm": {
     "name": "#%%\n"
    }
   }
  },
  {
   "cell_type": "markdown",
   "source": [
    "# Split the dataset into training dataset (80%) and test dataset (20%)"
   ],
   "metadata": {
    "collapsed": false,
    "pycharm": {
     "name": "#%% md\n"
    }
   }
  },
  {
   "cell_type": "code",
   "execution_count": 118,
   "outputs": [
    {
     "data": {
      "text/plain": "(2897, 12)"
     },
     "execution_count": 118,
     "metadata": {},
     "output_type": "execute_result"
    }
   ],
   "source": [
    "from sklearn.model_selection import train_test_split\n",
    "\n",
    "y = df['Ligitimacy']\n",
    "X = df.drop(['Ligitimacy'], axis=1)\n",
    "\n",
    "X_train, X_test, y_train, y_test = train_test_split(X, y, test_size=.2, random_state=seed, stratify=y)\n",
    "X_test.shape"
   ],
   "metadata": {
    "collapsed": false,
    "pycharm": {
     "name": "#%%\n"
    }
   }
  },
  {
   "cell_type": "markdown",
   "source": [
    "# Implement classic classifiers (Adaboost and RF)"
   ],
   "metadata": {
    "collapsed": false,
    "pycharm": {
     "name": "#%% md\n"
    }
   }
  },
  {
   "cell_type": "code",
   "execution_count": 119,
   "outputs": [],
   "source": [
    "from sklearn.ensemble import RandomForestClassifier, AdaBoostClassifier\n",
    "from sklearn.metrics import accuracy_score,confusion_matrix\n",
    "\n",
    "adaBoostClassifier = AdaBoostClassifier()\n",
    "randomForestClassifier = RandomForestClassifier()"
   ],
   "metadata": {
    "collapsed": false,
    "pycharm": {
     "name": "#%%\n"
    }
   }
  },
  {
   "cell_type": "markdown",
   "source": [
    "# Train Adaboost and RF via training dataset\n"
   ],
   "metadata": {
    "collapsed": false,
    "pycharm": {
     "name": "#%% md\n"
    }
   }
  },
  {
   "cell_type": "code",
   "execution_count": 120,
   "outputs": [
    {
     "name": "stdout",
     "output_type": "stream",
     "text": [
      "AdaBoost Traing Accuracy: 0.9513247605074653\n",
      "Random Forest Traing Accuracy: 1.0\n"
     ]
    }
   ],
   "source": [
    "## fit models on training data\n",
    "adaBoostClassifier.fit(X_train,y_train)\n",
    "randomForestClassifier.fit(X_train,y_train)\n",
    "\n",
    "y_adaBoost = adaBoostClassifier.predict(X_train)\n",
    "y_randomForest = randomForestClassifier.predict(X_train)\n",
    "AdaBoost_Training_Accuracy= accuracy_score(y_adaBoost, y_train)\n",
    "Random_Forest_Traing_Accuracy= accuracy_score(y_randomForest , y_train)\n",
    "\n",
    "print('AdaBoost Traing Accuracy:', AdaBoost_Training_Accuracy)\n",
    "print('Random Forest Traing Accuracy:', Random_Forest_Traing_Accuracy)"
   ],
   "metadata": {
    "collapsed": false,
    "pycharm": {
     "name": "#%%\n"
    }
   }
  },
  {
   "cell_type": "markdown",
   "source": [
    "# Verify detection performance using test dataset and present results comparison in bar chart\n"
   ],
   "metadata": {
    "collapsed": false,
    "pycharm": {
     "name": "#%% md\n"
    }
   }
  },
  {
   "cell_type": "code",
   "execution_count": 121,
   "outputs": [
    {
     "name": "stdout",
     "output_type": "stream",
     "text": [
      "AdaBoost Testing Accuracy: 0.9423541594753193\n",
      "Random Forest Testing Accuracy: 0.9965481532619952\n"
     ]
    }
   ],
   "source": [
    "y_pred_adaBoost = adaBoostClassifier.predict(X_test)\n",
    "y_pred_randomForest = randomForestClassifier.predict(X_test)\n",
    "from sklearn.metrics import accuracy_score, confusion_matrix\n",
    "\n",
    "AdaBoost_Testing_Accuracy = accuracy_score(y_pred_adaBoost, y_test)\n",
    "Random_Forest_Testing_Accuracy = accuracy_score(y_pred_randomForest, y_test)\n",
    "\n",
    "print('AdaBoost Testing Accuracy:', AdaBoost_Testing_Accuracy)\n",
    "print('Random Forest Testing Accuracy:', Random_Forest_Testing_Accuracy)"
   ],
   "metadata": {
    "collapsed": false,
    "pycharm": {
     "name": "#%%\n"
    }
   }
  },
  {
   "cell_type": "markdown",
   "source": [
    "## Confusion matrix"
   ],
   "metadata": {
    "collapsed": false,
    "pycharm": {
     "name": "#%% md\n"
    }
   }
  },
  {
   "cell_type": "code",
   "execution_count": 122,
   "outputs": [
    {
     "name": "stdout",
     "output_type": "stream",
     "text": [
      "<sklearn.metrics._plot.confusion_matrix.ConfusionMatrixDisplay object at 0x000001F4C965C130>\n",
      "<sklearn.metrics._plot.confusion_matrix.ConfusionMatrixDisplay object at 0x000001F4E249DC00>\n"
     ]
    },
    {
     "name": "stderr",
     "output_type": "stream",
     "text": [
      "C:\\Users\\Kirolos\\AppData\\Local\\Programs\\Python\\Python310\\lib\\site-packages\\sklearn\\utils\\deprecation.py:87: FutureWarning: Function plot_confusion_matrix is deprecated; Function `plot_confusion_matrix` is deprecated in 1.0 and will be removed in 1.2. Use one of the class methods: ConfusionMatrixDisplay.from_predictions or ConfusionMatrixDisplay.from_estimator.\n",
      "  warnings.warn(msg, category=FutureWarning)\n",
      "C:\\Users\\Kirolos\\AppData\\Local\\Programs\\Python\\Python310\\lib\\site-packages\\sklearn\\utils\\deprecation.py:87: FutureWarning: Function plot_confusion_matrix is deprecated; Function `plot_confusion_matrix` is deprecated in 1.0 and will be removed in 1.2. Use one of the class methods: ConfusionMatrixDisplay.from_predictions or ConfusionMatrixDisplay.from_estimator.\n",
      "  warnings.warn(msg, category=FutureWarning)\n"
     ]
    },
    {
     "data": {
      "text/plain": "Text(0.5, 1.0, 'Random Forest  Confusion Matrix ')"
     },
     "execution_count": 122,
     "metadata": {},
     "output_type": "execute_result"
    },
    {
     "data": {
      "text/plain": "<Figure size 432x288 with 2 Axes>",
      "image/png": "[encoded data removed]"
     },
     "metadata": {
      "needs_background": "light"
     },
     "output_type": "display_data"
    },
    {
     "data": {
      "text/plain": "<Figure size 432x288 with 2 Axes>",
      "image/png": "[encoded data removed]"
     },
     "metadata": {
      "needs_background": "light"
     },
     "output_type": "display_data"
    }
   ],
   "source": [
    "from sklearn.metrics import plot_confusion_matrix, ConfusionMatrixDisplay\n",
    "\n",
    "print(plot_confusion_matrix(adaBoostClassifier, X_test, y_test))\n",
    "plt.title(\"AdaBoost Confusion Matrix \")\n",
    "print(plot_confusion_matrix(randomForestClassifier, X_test, y_test))\n",
    "plt.title(\"Random Forest  Confusion Matrix \")"
   ],
   "metadata": {
    "collapsed": false,
    "pycharm": {
     "name": "#%%\n"
    }
   }
  },
  {
   "cell_type": "code",
   "execution_count": 123,
   "outputs": [
    {
     "data": {
      "text/plain": "{'AdaBoost_Testing_Accuracy': 0.9423541594753193,\n 'Random_Forest_Testing_Accuracy': 0.9965481532619952}"
     },
     "execution_count": 123,
     "metadata": {},
     "output_type": "execute_result"
    }
   ],
   "source": [
    "AdaBoost_Testing_Accuracy = accuracy_score(y_pred_adaBoost , y_test)\n",
    "Random_Forest_Testing_Accuracy =accuracy_score(y_pred_randomForest , y_test)\n",
    "acc_dict = {'AdaBoost_Testing_Accuracy':AdaBoost_Testing_Accuracy,\n",
    "            'Random_Forest_Testing_Accuracy':Random_Forest_Testing_Accuracy}\n",
    "acc_dict"
   ],
   "metadata": {
    "collapsed": false,
    "pycharm": {
     "name": "#%%\n"
    }
   }
  },
  {
   "cell_type": "code",
   "execution_count": 124,
   "outputs": [
    {
     "data": {
      "text/plain": "<Figure size 720x720 with 1 Axes>",
      "image/png": "[encoded data removed]"
     },
     "metadata": {
      "needs_background": "light"
     },
     "output_type": "display_data"
    }
   ],
   "source": [
    "sorted_acc_tup = sorted(acc_dict.items(),key=lambda item:item[1])\n",
    "acc_dict = {k:v for k,v in sorted_acc_tup}\n",
    "plt.rcParams[\"figure.figsize\"] = (10,10)\n",
    "\n",
    "sns.barplot(x = list(acc_dict.keys()), y=list(acc_dict.values()))\n",
    "plt.grid()\n",
    "plt.ylabel('Scores');\n",
    "plt.title('AdaBoost VS Random_Forest Accuracies');"
   ],
   "metadata": {
    "collapsed": false,
    "pycharm": {
     "name": "#%%\n"
    }
   }
  },
  {
   "cell_type": "markdown",
   "source": [
    "# Implement Conditional GAN with Wasserstein loss"
   ],
   "metadata": {
    "collapsed": false,
    "pycharm": {
     "name": "#%% md\n"
    }
   }
  },
  {
   "cell_type": "markdown",
   "source": [
    "### For good generation we should make the dataset balanced, so our generator can recognise the features of ligitimat tasks and unligitimat tasks"
   ],
   "metadata": {
    "collapsed": false,
    "pycharm": {
     "name": "#%% md\n"
    }
   }
  },
  {
   "cell_type": "code",
   "execution_count": 125,
   "outputs": [],
   "source": [
    "from imblearn.over_sampling import SMOTE\n",
    "\n",
    "smote = SMOTE(random_state=seed)\n",
    "X_train_smoted, y_train_smoted = smote.fit_resample(X_train, y_train)"
   ],
   "metadata": {
    "collapsed": false,
    "pycharm": {
     "name": "#%%\n"
    }
   }
  },
  {
   "cell_type": "markdown",
   "source": [
    "### Data scaling"
   ],
   "metadata": {
    "collapsed": false,
    "pycharm": {
     "name": "#%% md\n"
    }
   }
  },
  {
   "cell_type": "code",
   "execution_count": 126,
   "outputs": [
    {
     "data": {
      "text/plain": "array([[0.99249812, 0.24691239, 0.19038729, ..., 0.8       , 0.        ,\n        0.24385902],\n       [0.50187547, 0.8656828 , 0.48180773, ..., 0.07142857, 0.        ,\n        0.85362741],\n       [0.36184046, 0.76124423, 0.83948626, ..., 0.32857143, 0.        ,\n        0.7560968 ],\n       ...,\n       [0.28982246, 0.53945756, 0.47422468, ..., 0.65714286, 0.        ,\n        0.53656001],\n       [0.75743936, 0.67476991, 0.16140315, ..., 0.67142857, 0.        ,\n        0.68287282],\n       [0.03325831, 0.68059008, 0.16064208, ..., 0.04285714, 0.        ,\n        0.68287282]])"
     },
     "execution_count": 126,
     "metadata": {},
     "output_type": "execute_result"
    }
   ],
   "source": [
    "from sklearn.preprocessing import MinMaxScaler, StandardScaler\n",
    "\n",
    "scaler = MinMaxScaler()\n",
    "X_train_smoted_scaled = scaler.fit_transform(X_train_smoted)\n",
    "X_train_scaled=scaler.fit_transform(X_train)\n",
    "X_test_scaled = scaler.transform(X_test)\n",
    "X_train_smoted_scaled"
   ],
   "metadata": {
    "collapsed": false,
    "pycharm": {
     "name": "#%%\n"
    }
   }
  },
  {
   "cell_type": "markdown",
   "source": [
    "### Constants and hyperparameters"
   ],
   "metadata": {
    "collapsed": false,
    "pycharm": {
     "name": "#%% md\n"
    }
   }
  },
  {
   "cell_type": "code",
   "execution_count": 142,
   "outputs": [],
   "source": [
    "batch_size = 1024\n",
    "num_classes = 2\n",
    "take_size = 12\n",
    "latent_dim = 126"
   ],
   "metadata": {
    "collapsed": false,
    "pycharm": {
     "name": "#%%\n"
    }
   }
  },
  {
   "cell_type": "code",
   "execution_count": 143,
   "outputs": [
    {
     "data": {
      "text/plain": "<BatchDataset element_spec=(TensorSpec(shape=(None, 12), dtype=tf.float32, name=None), TensorSpec(shape=(None, 2), dtype=tf.float32, name=None))>"
     },
     "execution_count": 143,
     "metadata": {},
     "output_type": "execute_result"
    }
   ],
   "source": [
    "from tensorflow import keras\n",
    "from keras import layers\n",
    "task_shape = (take_size + num_classes, 1)\n",
    "X_train_smoted = X_train_smoted.astype(np.float32)\n",
    "X_train_smoted_scaled = X_train_smoted_scaled.astype(np.float32)\n",
    "all_labels = keras.utils.to_categorical(y_train_smoted, 2)\n",
    "# Create tf.data.Dataset.\n",
    "dataset = tf.data.Dataset.from_tensor_slices((X_train_smoted_scaled, all_labels))\n",
    "dataset = dataset.shuffle(buffer_size=1024).batch(batch_size)\n",
    "dataset"
   ],
   "metadata": {
    "collapsed": false,
    "pycharm": {
     "name": "#%%\n"
    }
   }
  },
  {
   "cell_type": "code",
   "execution_count": 144,
   "metadata": {
    "id": "n7BqV_T41JEa",
    "pycharm": {
     "name": "#%%\n"
    }
   },
   "outputs": [
    {
     "name": "stdout",
     "output_type": "stream",
     "text": [
      "Model: \"discriminator\"\n",
      "_________________________________________________________________\n",
      " Layer (type)                Output Shape              Param #   \n",
      "=================================================================\n",
      " input_7 (InputLayer)        [(None, 14, 1)]           0         \n",
      "                                                                 \n",
      " conv1d_12 (Conv1D)          (None, 7, 64)             256       \n",
      "                                                                 \n",
      " leaky_re_lu_15 (LeakyReLU)  (None, 7, 64)             0         \n",
      "                                                                 \n",
      " conv1d_13 (Conv1D)          (None, 4, 128)            24704     \n",
      "                                                                 \n",
      " leaky_re_lu_16 (LeakyReLU)  (None, 4, 128)            0         \n",
      "                                                                 \n",
      " dropout_12 (Dropout)        (None, 4, 128)            0         \n",
      "                                                                 \n",
      " conv1d_14 (Conv1D)          (None, 2, 256)            65792     \n",
      "                                                                 \n",
      " leaky_re_lu_17 (LeakyReLU)  (None, 2, 256)            0         \n",
      "                                                                 \n",
      " dropout_13 (Dropout)        (None, 2, 256)            0         \n",
      "                                                                 \n",
      " conv1d_15 (Conv1D)          (None, 1, 512)            393728    \n",
      "                                                                 \n",
      " leaky_re_lu_18 (LeakyReLU)  (None, 1, 512)            0         \n",
      "                                                                 \n",
      " flatten_3 (Flatten)         (None, 512)               0         \n",
      "                                                                 \n",
      " dropout_14 (Dropout)        (None, 512)               0         \n",
      "                                                                 \n",
      " dense_12 (Dense)            (None, 1)                 513       \n",
      "                                                                 \n",
      "=================================================================\n",
      "Total params: 484,993\n",
      "Trainable params: 484,993\n",
      "Non-trainable params: 0\n",
      "_________________________________________________________________\n"
     ]
    }
   ],
   "source": [
    "def conv_block(\n",
    "    x,\n",
    "    filters,\n",
    "    activation,\n",
    "    kernel_size=2,\n",
    "    strides=1,\n",
    "    padding=\"same\",\n",
    "    use_bias=True,\n",
    "    use_bn=False,\n",
    "    use_dropout=False,\n",
    "    drop_value=0.5,\n",
    "):\n",
    "    x = layers.Conv1D(\n",
    "        filters, kernel_size, strides=strides, padding=padding, use_bias=use_bias\n",
    "    )(x)\n",
    "    if use_bn:\n",
    "        x = layers.BatchNormalization()(x)\n",
    "    x = activation(x)\n",
    "    if use_dropout:\n",
    "        x = layers.Dropout(drop_value)(x)\n",
    "    return x\n",
    "\n",
    "\n",
    "def get_discriminator_model():\n",
    "    img_input = layers.Input(shape=task_shape)\n",
    "    # Zero pad the input to make the input images size to (32, 32, 1).\n",
    "    # x = layers.ZeroPadding2D((2, 2))(img_input)\n",
    "    x = conv_block(\n",
    "        img_input,\n",
    "        64,\n",
    "        kernel_size=3,\n",
    "        strides=2,\n",
    "        use_bn=False,\n",
    "        use_bias=True,\n",
    "        activation=layers.LeakyReLU(0.2),\n",
    "        use_dropout=False,\n",
    "        drop_value=0.3,\n",
    "    )\n",
    "    x = conv_block(\n",
    "        x,\n",
    "        128,\n",
    "        kernel_size=3,\n",
    "        strides=2,\n",
    "        use_bn=False,\n",
    "        activation=layers.LeakyReLU(0.2),\n",
    "        use_bias=True,\n",
    "        use_dropout=True,\n",
    "        drop_value=0.3,\n",
    "    )\n",
    "    x = conv_block(\n",
    "        x,\n",
    "        256,\n",
    "        kernel_size=2,\n",
    "        strides=2,\n",
    "        use_bn=False,\n",
    "        activation=layers.LeakyReLU(0.2),\n",
    "        use_bias=True,\n",
    "        use_dropout=True,\n",
    "        drop_value=0.3,\n",
    "    )\n",
    "    x = conv_block(\n",
    "        x,\n",
    "        512,\n",
    "        kernel_size=3,\n",
    "        strides=2,\n",
    "        use_bn=False,\n",
    "        activation=layers.LeakyReLU(0.2),\n",
    "        use_bias=True,\n",
    "        use_dropout=False,\n",
    "        drop_value=0.3,\n",
    "    )\n",
    "\n",
    "    x = layers.Flatten()(x)\n",
    "    x = layers.Dropout(0.2)(x)\n",
    "    x = layers.Dense(1)(x)\n",
    "\n",
    "    d_model = keras.models.Model(img_input, x, name=\"discriminator\")\n",
    "    return d_model\n",
    "\n",
    "d_model = get_discriminator_model()\n",
    "d_model.summary()"
   ]
  },
  {
   "cell_type": "markdown",
   "metadata": {
    "id": "HaqH7X0p1JEb",
    "pycharm": {
     "name": "#%% md\n"
    }
   },
   "source": [
    "## Create the generator"
   ]
  },
  {
   "cell_type": "code",
   "execution_count": 145,
   "metadata": {
    "id": "8GmdwF1Q1JEc",
    "pycharm": {
     "name": "#%%\n"
    }
   },
   "outputs": [
    {
     "name": "stdout",
     "output_type": "stream",
     "text": [
      "Model: \"generator\"\n",
      "_________________________________________________________________\n",
      " Layer (type)                Output Shape              Param #   \n",
      "=================================================================\n",
      " input_8 (InputLayer)        [(None, 128)]             0         \n",
      "                                                                 \n",
      " dense_13 (Dense)            (None, 4096)              524288    \n",
      "                                                                 \n",
      " batch_normalization_6 (Batc  (None, 4096)             16384     \n",
      " hNormalization)                                                 \n",
      "                                                                 \n",
      " leaky_re_lu_19 (LeakyReLU)  (None, 4096)              0         \n",
      "                                                                 \n",
      " dense_14 (Dense)            (None, 256)               1048576   \n",
      "                                                                 \n",
      " batch_normalization_7 (Batc  (None, 256)              1024      \n",
      " hNormalization)                                                 \n",
      "                                                                 \n",
      " dropout_15 (Dropout)        (None, 256)               0         \n",
      "                                                                 \n",
      " dense_15 (Dense)            (None, 12)                3084      \n",
      "                                                                 \n",
      "=================================================================\n",
      "Total params: 1,593,356\n",
      "Trainable params: 1,584,652\n",
      "Non-trainable params: 8,704\n",
      "_________________________________________________________________\n"
     ]
    }
   ],
   "source": [
    "\n",
    "def block(\n",
    "    x,\n",
    "    filters,\n",
    "    activation,\n",
    "    kernel_size=3,\n",
    "    strides=1,\n",
    "    padding=\"same\",\n",
    "    use_bn=False,\n",
    "    use_bias=True,\n",
    "    use_dropout=False,\n",
    "    drop_value=0.3,\n",
    "):\n",
    "    # x = layers.UpSampling2D(up_size)(x)\n",
    "    x = layers.Conv1D(\n",
    "        filters, kernel_size, strides=strides, padding=padding, use_bias=use_bias\n",
    "    )(x)\n",
    "\n",
    "    if use_bn:\n",
    "        x = layers.BatchNormalization()(x)\n",
    "\n",
    "    if activation:\n",
    "        x = activation(x)\n",
    "    if use_dropout:\n",
    "        x = layers.Dropout(drop_value)(x)\n",
    "    return x\n",
    "\n",
    "\n",
    "def get_generator_model():\n",
    "    noise = layers.Input(shape=(latent_dim+num_classes,))\n",
    "    x = layers.Dense(4 * 4 * 256, use_bias=False,activation='relu')(noise)\n",
    "    x = layers.BatchNormalization()(x)\n",
    "    x = layers.LeakyReLU(0.2)(x)\n",
    "    x = layers.Dense(256, use_bias=False,activation='relu')(x)\n",
    "    x = layers.BatchNormalization()(x)\n",
    "    x = layers.Dropout(0.2)(x)\n",
    "    x = layers.Dense(take_size,activation='leaky_relu')(x)\n",
    "    g_model = keras.models.Model(noise, x, name=\"generator\")\n",
    "    return g_model\n",
    "\n",
    "\n",
    "g_model = get_generator_model()\n",
    "g_model.summary()"
   ]
  },
  {
   "cell_type": "markdown",
   "metadata": {
    "id": "bpLAmH171JEd",
    "pycharm": {
     "name": "#%% md\n"
    }
   },
   "source": [
    "## Create the WGAN-GP model"
   ]
  },
  {
   "cell_type": "code",
   "execution_count": 146,
   "metadata": {
    "id": "wZReMVPk1JEd",
    "pycharm": {
     "name": "#%%\n"
    }
   },
   "outputs": [],
   "source": [
    "\n",
    "class WGAN(keras.Model):\n",
    "    def __init__(\n",
    "        self,\n",
    "        discriminator,\n",
    "        generator,\n",
    "        latent_dim,\n",
    "        discriminator_extra_steps=3,\n",
    "        gp_weight=10.0,\n",
    "    ):\n",
    "        super(WGAN, self).__init__()\n",
    "        self.discriminator = discriminator\n",
    "        self.generator = generator\n",
    "        self.latent_dim = latent_dim\n",
    "        self.d_steps = discriminator_extra_steps\n",
    "        self.gp_weight = gp_weight\n",
    "\n",
    "    def compile(self, d_optimizer, g_optimizer, d_loss_fn, g_loss_fn):\n",
    "        super(WGAN, self).compile()\n",
    "        self.d_optimizer = d_optimizer\n",
    "        self.g_optimizer = g_optimizer\n",
    "        self.d_loss_fn = d_loss_fn\n",
    "        self.g_loss_fn = g_loss_fn\n",
    "\n",
    "    def gradient_penalty(self, batch_size, real_images, fake_images):\n",
    "        \"\"\"Calculates the gradient penalty.\n",
    "\n",
    "        This loss is calculated on an interpolated image\n",
    "        and added to the discriminator loss.\n",
    "        \"\"\"\n",
    "        # Get the interpolated image\n",
    "        alpha = tf.random.normal([batch_size,1], 0.0, 1.0)\n",
    "        diff = fake_images - real_images\n",
    "        interpolated = real_images + alpha * diff\n",
    "\n",
    "        with tf.GradientTape() as gp_tape:\n",
    "            gp_tape.watch(interpolated)\n",
    "            # 1. Get the discriminator output for this interpolated image.\n",
    "            pred = self.discriminator(interpolated, training=True)\n",
    "\n",
    "        # 2. Calculate the gradients w.r.t to this interpolated image.\n",
    "        grads = gp_tape.gradient(pred, [interpolated])[0]\n",
    "        # 3. Calculate the norm of the gradients.\n",
    "        norm = tf.sqrt(tf.reduce_sum(tf.square(grads), axis=[1]))\n",
    "        gp = tf.reduce_mean((norm - 1.0) ** 2)\n",
    "        return gp\n",
    "\n",
    "    def train_step(self, data):\n",
    "        real_task,one_hot_labeld=data\n",
    "        if isinstance(real_task, tuple):\n",
    "            real_task = real_task[0]\n",
    "\n",
    "        # Get the batch size\n",
    "        real_task=tf.concat([real_task,one_hot_labeld],axis=1)\n",
    "        batch_size = tf.shape(real_task)[0]\n",
    "        for i in range(self.d_steps):\n",
    "            # Get the latent vector\n",
    "            random_latent_vectors = tf.random.normal(\n",
    "                shape=(batch_size, self.latent_dim)\n",
    "            )\n",
    "            random_latent_vectors=tf.concat([random_latent_vectors,one_hot_labeld],axis=1)\n",
    "\n",
    "            with tf.GradientTape() as tape:\n",
    "                # Generate fake images from the latent vector\n",
    "                fake_task = self.generator(random_latent_vectors, training=True)\n",
    "                # Get the logits for the fake images\n",
    "                fake_task=tf.concat([fake_task,one_hot_labeld],axis=1)\n",
    "                fake_logits = self.discriminator(fake_task, training=True)\n",
    "                # Get the logits for the real images\n",
    "                real_logits = self.discriminator(real_task, training=True)\n",
    "\n",
    "                # Calculate the discriminator loss using the fake and real image logits\n",
    "                d_cost = self.d_loss_fn(real_img=real_logits, fake_img=fake_logits)\n",
    "                # Calculate the gradient penalty\n",
    "                gp = self.gradient_penalty(batch_size, real_task, fake_task)\n",
    "                # Add the gradient penalty to the original discriminator loss\n",
    "                d_loss = d_cost + gp * self.gp_weight\n",
    "\n",
    "            # Get the gradients w.r.t the discriminator loss\n",
    "            d_gradient = tape.gradient(d_loss, self.discriminator.trainable_variables)\n",
    "            # Update the weights of the discriminator using the discriminator optimizer\n",
    "            self.d_optimizer.apply_gradients(\n",
    "                zip(d_gradient, self.discriminator.trainable_variables)\n",
    "            )\n",
    "\n",
    "        # Train the generator\n",
    "        # Get the latent vector\n",
    "        random_latent_vectors = tf.random.normal(shape=(batch_size, self.latent_dim))\n",
    "        random_latent_vectors=tf.concat([random_latent_vectors,one_hot_labeld],axis=1)\n",
    "        with tf.GradientTape() as tape:\n",
    "            # Generate fake images using the generator\n",
    "            generated_task = self.generator(random_latent_vectors, training=True)\n",
    "            generated_task=tf.concat([generated_task,one_hot_labeld],axis=1)\n",
    "            # Get the discriminator logits for fake images\n",
    "            gen_img_logits = self.discriminator(generated_task, training=True)\n",
    "            # Calculate the generator loss\n",
    "            g_loss = self.g_loss_fn(gen_img_logits)\n",
    "\n",
    "        # Get the gradients w.r.t the generator loss\n",
    "        gen_gradient = tape.gradient(g_loss, self.generator.trainable_variables)\n",
    "        # Update the weights of the generator using the generator optimizer\n",
    "        self.g_optimizer.apply_gradients(\n",
    "            zip(gen_gradient, self.generator.trainable_variables)\n",
    "        )\n",
    "        return {\"d_loss\": d_loss, \"g_loss\": g_loss}\n"
   ]
  },
  {
   "cell_type": "markdown",
   "source": [
    "# Apply the provided training dataset to CGAN"
   ],
   "metadata": {
    "collapsed": false,
    "pycharm": {
     "name": "#%% md\n"
    }
   }
  },
  {
   "cell_type": "markdown",
   "metadata": {
    "id": "xPw5zmmC1JEf",
    "pycharm": {
     "name": "#%% md\n"
    }
   },
   "source": [
    "## Train the end-to-end model"
   ]
  },
  {
   "cell_type": "code",
   "execution_count": 147,
   "metadata": {
    "id": "Al8UuPvA1JEf",
    "pycharm": {
     "name": "#%%\n"
    }
   },
   "outputs": [
    {
     "name": "stdout",
     "output_type": "stream",
     "text": [
      "Epoch 1/50\n",
      "20/20 [==============================] - 31s 1s/step - d_loss: 1.0306 - g_loss: 0.7373\n",
      "Epoch 2/50\n",
      "20/20 [==============================] - 27s 1s/step - d_loss: -1.2707 - g_loss: 1.8086\n",
      "Epoch 3/50\n",
      "20/20 [==============================] - 25s 1s/step - d_loss: -1.2503 - g_loss: 1.7241\n",
      "Epoch 4/50\n",
      "20/20 [==============================] - 25s 1s/step - d_loss: -1.2518 - g_loss: 1.9139\n",
      "Epoch 5/50\n",
      "20/20 [==============================] - 25s 1s/step - d_loss: -1.2199 - g_loss: 2.0340\n",
      "Epoch 6/50\n",
      "20/20 [==============================] - 25s 1s/step - d_loss: -1.1819 - g_loss: 2.1434\n",
      "Epoch 7/50\n",
      "20/20 [==============================] - 25s 1s/step - d_loss: -1.1429 - g_loss: 2.1059\n",
      "Epoch 8/50\n",
      "20/20 [==============================] - 25s 1s/step - d_loss: -1.1054 - g_loss: 2.0650\n",
      "Epoch 9/50\n",
      "20/20 [==============================] - 25s 1s/step - d_loss: -1.0587 - g_loss: 1.9888\n",
      "Epoch 10/50\n",
      "20/20 [==============================] - 25s 1s/step - d_loss: -1.0113 - g_loss: 1.9126\n",
      "Epoch 11/50\n",
      "20/20 [==============================] - 25s 1s/step - d_loss: -0.9629 - g_loss: 1.8130\n",
      "Epoch 12/50\n",
      "20/20 [==============================] - 26s 1s/step - d_loss: -0.9146 - g_loss: 1.7624\n",
      "Epoch 13/50\n",
      "20/20 [==============================] - 25s 1s/step - d_loss: -0.8643 - g_loss: 1.6427\n",
      "Epoch 14/50\n",
      "20/20 [==============================] - 25s 1s/step - d_loss: -0.8087 - g_loss: 1.5833\n",
      "Epoch 15/50\n",
      "20/20 [==============================] - 25s 1s/step - d_loss: -0.7505 - g_loss: 1.4971\n",
      "Epoch 16/50\n",
      "20/20 [==============================] - 25s 1s/step - d_loss: -0.7024 - g_loss: 1.4171\n",
      "Epoch 17/50\n",
      "20/20 [==============================] - 25s 1s/step - d_loss: -0.6447 - g_loss: 1.3601\n",
      "Epoch 18/50\n",
      "20/20 [==============================] - 27s 1s/step - d_loss: -0.6030 - g_loss: 1.2533\n",
      "Epoch 19/50\n",
      "20/20 [==============================] - 25s 1s/step - d_loss: -0.5642 - g_loss: 1.1664\n",
      "Epoch 20/50\n",
      "20/20 [==============================] - 25s 1s/step - d_loss: -0.5148 - g_loss: 1.1729\n",
      "Epoch 21/50\n",
      "20/20 [==============================] - 25s 1s/step - d_loss: -0.4749 - g_loss: 1.1326\n",
      "Epoch 22/50\n",
      "20/20 [==============================] - 26s 1s/step - d_loss: -0.4345 - g_loss: 1.1061\n",
      "Epoch 23/50\n",
      "20/20 [==============================] - 25s 1s/step - d_loss: -0.3983 - g_loss: 1.0148\n",
      "Epoch 24/50\n",
      "20/20 [==============================] - 25s 1s/step - d_loss: -0.3610 - g_loss: 1.0102\n",
      "Epoch 25/50\n",
      "20/20 [==============================] - 25s 1s/step - d_loss: -0.3201 - g_loss: 0.9735\n",
      "Epoch 26/50\n",
      "20/20 [==============================] - 29s 1s/step - d_loss: -0.2801 - g_loss: 0.9584\n",
      "Epoch 27/50\n",
      "20/20 [==============================] - 25s 1s/step - d_loss: -0.2431 - g_loss: 0.9330\n",
      "Epoch 28/50\n",
      "20/20 [==============================] - 25s 1s/step - d_loss: -0.1997 - g_loss: 0.8448\n",
      "Epoch 29/50\n",
      "20/20 [==============================] - 24s 1s/step - d_loss: -0.1643 - g_loss: 0.7735\n",
      "Epoch 30/50\n",
      "20/20 [==============================] - 24s 1s/step - d_loss: -0.1211 - g_loss: 0.7439\n",
      "Epoch 31/50\n",
      "20/20 [==============================] - 24s 1s/step - d_loss: -0.0862 - g_loss: 0.7506\n",
      "Epoch 32/50\n",
      "20/20 [==============================] - 24s 1s/step - d_loss: -0.0647 - g_loss: 0.7761\n",
      "Epoch 33/50\n",
      "20/20 [==============================] - 24s 1s/step - d_loss: -0.0509 - g_loss: 0.8548\n",
      "Epoch 34/50\n",
      "20/20 [==============================] - 24s 1s/step - d_loss: -0.0461 - g_loss: 0.9773\n",
      "Epoch 35/50\n",
      "20/20 [==============================] - 24s 1s/step - d_loss: -0.0553 - g_loss: 1.1425\n",
      "Epoch 36/50\n",
      "20/20 [==============================] - 24s 1s/step - d_loss: -0.0588 - g_loss: 1.2113\n",
      "Epoch 37/50\n",
      "20/20 [==============================] - 24s 1s/step - d_loss: -0.0685 - g_loss: 1.1807\n",
      "Epoch 38/50\n",
      "20/20 [==============================] - 24s 1s/step - d_loss: -0.0743 - g_loss: 1.1866\n",
      "Epoch 39/50\n",
      "20/20 [==============================] - 27s 1s/step - d_loss: -0.0706 - g_loss: 1.1461\n",
      "Epoch 40/50\n",
      "20/20 [==============================] - 25s 1s/step - d_loss: -0.0787 - g_loss: 1.0984\n",
      "Epoch 41/50\n",
      "20/20 [==============================] - 25s 1s/step - d_loss: -0.0859 - g_loss: 1.1291\n",
      "Epoch 42/50\n",
      "20/20 [==============================] - 25s 1s/step - d_loss: -0.0838 - g_loss: 1.0354\n",
      "Epoch 43/50\n",
      "20/20 [==============================] - 25s 1s/step - d_loss: -0.0842 - g_loss: 1.0884\n",
      "Epoch 44/50\n",
      "20/20 [==============================] - 25s 1s/step - d_loss: -0.0885 - g_loss: 1.0652\n",
      "Epoch 45/50\n",
      "20/20 [==============================] - 25s 1s/step - d_loss: -0.0899 - g_loss: 1.0060\n",
      "Epoch 46/50\n",
      "20/20 [==============================] - 25s 1s/step - d_loss: -0.0935 - g_loss: 1.0576\n",
      "Epoch 47/50\n",
      "20/20 [==============================] - 25s 1s/step - d_loss: -0.0918 - g_loss: 1.0617\n",
      "Epoch 48/50\n",
      "20/20 [==============================] - 25s 1s/step - d_loss: -0.0961 - g_loss: 1.0974\n",
      "Epoch 49/50\n",
      "20/20 [==============================] - 25s 1s/step - d_loss: -0.0991 - g_loss: 1.0206\n",
      "Epoch 50/50\n",
      "20/20 [==============================] - 25s 1s/step - d_loss: -0.0928 - g_loss: 1.0093\n"
     ]
    },
    {
     "data": {
      "text/plain": "<keras.callbacks.History at 0x1f4f371d6f0>"
     },
     "execution_count": 147,
     "metadata": {},
     "output_type": "execute_result"
    }
   ],
   "source": [
    "# Instantiate the optimizer for both networks\n",
    "# (learning_rate=0.0002, beta_1=0.5 are recommended)\n",
    "generator_optimizer = keras.optimizers.Adam(\n",
    "    learning_rate=0.0002, beta_1=0.5, beta_2=0.9\n",
    ")\n",
    "discriminator_optimizer = keras.optimizers.Adam(\n",
    "    learning_rate=0.0002, beta_1=0.5, beta_2=0.9\n",
    ")\n",
    "\n",
    "# Define the loss functions for the discriminator,\n",
    "# which should be (fake_loss - real_loss).\n",
    "# We will add the gradient penalty later to this loss function.\n",
    "def discriminator_loss(real_img, fake_img):\n",
    "    real_loss = tf.reduce_mean(real_img)\n",
    "    fake_loss = tf.reduce_mean(fake_img)\n",
    "    return fake_loss - real_loss\n",
    "\n",
    "\n",
    "# Define the loss functions for the generator.\n",
    "def generator_loss(fake_img):\n",
    "    return -tf.reduce_mean(fake_img)\n",
    "\n",
    "\n",
    "# Set the number of epochs for trainining.\n",
    "epochs = 50\n",
    "\n",
    "# Get the wgan model\n",
    "wgan = WGAN(\n",
    "    discriminator=d_model,\n",
    "    generator=g_model,\n",
    "    latent_dim=latent_dim,\n",
    "    discriminator_extra_steps=3,\n",
    ")\n",
    "\n",
    "# Compile the wgan model\n",
    "wgan.compile(\n",
    "    d_optimizer=discriminator_optimizer,\n",
    "    g_optimizer=generator_optimizer,\n",
    "    g_loss_fn=generator_loss,\n",
    "    d_loss_fn=discriminator_loss,\n",
    ")\n",
    "\n",
    "# Start training\n",
    "wgan.fit(dataset, batch_size=batch_size, epochs=epochs,\n",
    "         )"
   ]
  },
  {
   "cell_type": "markdown",
   "source": [
    "# Generate synthetic fake tasks via Generator network in CGAN after the training procedure"
   ],
   "metadata": {
    "collapsed": false,
    "pycharm": {
     "name": "#%% md\n"
    }
   }
  },
  {
   "cell_type": "markdown",
   "source": [
    "### To faul the model we will generate unligitimate(milicious) tasks and label them as 0"
   ],
   "metadata": {
    "collapsed": false,
    "pycharm": {
     "name": "#%% md\n"
    }
   }
  },
  {
   "cell_type": "code",
   "execution_count": 160,
   "outputs": [
    {
     "name": "stdout",
     "output_type": "stream",
     "text": [
      "63/63 [==============================] - 0s 4ms/step\n"
     ]
    }
   ],
   "source": [
    "num_of_tasks=2000\n",
    "trained_gen = wgan.generator\n",
    "one_hot_example = keras.utils.to_categorical([0]*num_of_tasks, 2)\n",
    "# Sample noise for the interpolation.\n",
    "fake_noise = tf.random.normal(shape=(num_of_tasks, latent_dim))\n",
    "# Combine the noise and the labels and run inference with the generator.\n",
    "noise_and_labels = tf.concat([fake_noise, one_hot_example], 1)\n",
    "fake = trained_gen.predict(noise_and_labels)"
   ],
   "metadata": {
    "collapsed": false,
    "pycharm": {
     "name": "#%%\n"
    }
   }
  },
  {
   "cell_type": "code",
   "execution_count": 161,
   "outputs": [
    {
     "data": {
      "text/plain": "(2000, 12)"
     },
     "execution_count": 161,
     "metadata": {},
     "output_type": "execute_result"
    }
   ],
   "source": [
    "fake.shape"
   ],
   "metadata": {
    "collapsed": false,
    "pycharm": {
     "name": "#%%\n"
    }
   }
  },
  {
   "cell_type": "code",
   "execution_count": 162,
   "outputs": [
    {
     "data": {
      "text/plain": "               ID   Latitude  Longitude       Day       Hour     Minute  \\\n0     3013.472656  45.472393 -75.203934  2.870436  10.935410  10.881277   \n1     1514.831299  45.480968 -75.232590  1.057343  13.605604  29.504301   \n2     1936.185425  45.553188 -75.244804  2.931365  11.824066  18.896584   \n3      637.891479  45.509197 -75.255020  2.953881  13.588033  10.694720   \n4     2316.576904  45.502987 -75.251091  2.329114  11.809584  15.008934   \n...           ...        ...        ...       ...        ...        ...   \n1995  1584.148438  45.456936 -75.274055  2.278354  14.567842  15.549793   \n1996  2196.732178  45.482075 -75.240044  2.317201  11.519961  19.457003   \n1997  2915.278320  45.465050 -75.220856  3.776816  11.627173  17.813435   \n1998  1483.401489  45.448112 -75.232391  1.355263  16.715073  -0.437701   \n1999  1893.715332  45.472897 -75.185936  3.383940  14.983698  17.551525   \n\n       Duration  RemainingTime  Resources   Coverage  OnPeakHours  \\\n0     51.760231      42.268013   7.538090  53.774006    -0.013827   \n1     47.348515      42.168087   7.424839  59.841034     0.523665   \n2     49.883713      30.475977   7.584974  57.915310    -0.073288   \n3     44.778416      39.203648   7.375323  40.351543     1.331057   \n4     48.977791      34.718037   5.329229  59.522263    -0.009828   \n...         ...            ...        ...        ...          ...   \n1995  42.991623      23.734514   5.807235  51.328136     0.255321   \n1996  48.815395      41.061378   5.238188  57.359741     0.162162   \n1997  50.668060      37.507996   7.839029  63.592953    -0.026696   \n1998  39.935268      16.746204   2.443847  39.611137    -0.124302   \n1999  54.723583      23.030132   8.216568  52.906948     0.259485   \n\n         GridNumber  \n0     252629.093750  \n1     203812.531250  \n2     261422.421875  \n3     233566.953125  \n4     209836.125000  \n...             ...  \n1995  154048.921875  \n1996  240674.828125  \n1997  216918.046875  \n1998  203515.890625  \n1999  284486.781250  \n\n[2000 rows x 12 columns]",
      "text/html": "<div>\n<style scoped>\n    .dataframe tbody tr th:only-of-type {\n        vertical-align: middle;\n    }\n\n    .dataframe tbody tr th {\n        vertical-align: top;\n    }\n\n    .dataframe thead th {\n        text-align: right;\n    }\n</style>\n<table border=\"1\" class=\"dataframe\">\n  <thead>\n    <tr style=\"text-align: right;\">\n      <th></th>\n      <th>ID</th>\n      <th>Latitude</th>\n      <th>Longitude</th>\n      <th>Day</th>\n      <th>Hour</th>\n      <th>Minute</th>\n      <th>Duration</th>\n      <th>RemainingTime</th>\n      <th>Resources</th>\n      <th>Coverage</th>\n      <th>OnPeakHours</th>\n      <th>GridNumber</th>\n    </tr>\n  </thead>\n  <tbody>\n    <tr>\n      <th>0</th>\n      <td>3013.472656</td>\n      <td>45.472393</td>\n      <td>-75.203934</td>\n      <td>2.870436</td>\n      <td>10.935410</td>\n      <td>10.881277</td>\n      <td>51.760231</td>\n      <td>42.268013</td>\n      <td>7.538090</td>\n      <td>53.774006</td>\n      <td>-0.013827</td>\n      <td>252629.093750</td>\n    </tr>\n    <tr>\n      <th>1</th>\n      <td>1514.831299</td>\n      <td>45.480968</td>\n      <td>-75.232590</td>\n      <td>1.057343</td>\n      <td>13.605604</td>\n      <td>29.504301</td>\n      <td>47.348515</td>\n      <td>42.168087</td>\n      <td>7.424839</td>\n      <td>59.841034</td>\n      <td>0.523665</td>\n      <td>203812.531250</td>\n    </tr>\n    <tr>\n      <th>2</th>\n      <td>1936.185425</td>\n      <td>45.553188</td>\n      <td>-75.244804</td>\n      <td>2.931365</td>\n      <td>11.824066</td>\n      <td>18.896584</td>\n      <td>49.883713</td>\n      <td>30.475977</td>\n      <td>7.584974</td>\n      <td>57.915310</td>\n      <td>-0.073288</td>\n      <td>261422.421875</td>\n    </tr>\n    <tr>\n      <th>3</th>\n      <td>637.891479</td>\n      <td>45.509197</td>\n      <td>-75.255020</td>\n      <td>2.953881</td>\n      <td>13.588033</td>\n      <td>10.694720</td>\n      <td>44.778416</td>\n      <td>39.203648</td>\n      <td>7.375323</td>\n      <td>40.351543</td>\n      <td>1.331057</td>\n      <td>233566.953125</td>\n    </tr>\n    <tr>\n      <th>4</th>\n      <td>2316.576904</td>\n      <td>45.502987</td>\n      <td>-75.251091</td>\n      <td>2.329114</td>\n      <td>11.809584</td>\n      <td>15.008934</td>\n      <td>48.977791</td>\n      <td>34.718037</td>\n      <td>5.329229</td>\n      <td>59.522263</td>\n      <td>-0.009828</td>\n      <td>209836.125000</td>\n    </tr>\n    <tr>\n      <th>...</th>\n      <td>...</td>\n      <td>...</td>\n      <td>...</td>\n      <td>...</td>\n      <td>...</td>\n      <td>...</td>\n      <td>...</td>\n      <td>...</td>\n      <td>...</td>\n      <td>...</td>\n      <td>...</td>\n      <td>...</td>\n    </tr>\n    <tr>\n      <th>1995</th>\n      <td>1584.148438</td>\n      <td>45.456936</td>\n      <td>-75.274055</td>\n      <td>2.278354</td>\n      <td>14.567842</td>\n      <td>15.549793</td>\n      <td>42.991623</td>\n      <td>23.734514</td>\n      <td>5.807235</td>\n      <td>51.328136</td>\n      <td>0.255321</td>\n      <td>154048.921875</td>\n    </tr>\n    <tr>\n      <th>1996</th>\n      <td>2196.732178</td>\n      <td>45.482075</td>\n      <td>-75.240044</td>\n      <td>2.317201</td>\n      <td>11.519961</td>\n      <td>19.457003</td>\n      <td>48.815395</td>\n      <td>41.061378</td>\n      <td>5.238188</td>\n      <td>57.359741</td>\n      <td>0.162162</td>\n      <td>240674.828125</td>\n    </tr>\n    <tr>\n      <th>1997</th>\n      <td>2915.278320</td>\n      <td>45.465050</td>\n      <td>-75.220856</td>\n      <td>3.776816</td>\n      <td>11.627173</td>\n      <td>17.813435</td>\n      <td>50.668060</td>\n      <td>37.507996</td>\n      <td>7.839029</td>\n      <td>63.592953</td>\n      <td>-0.026696</td>\n      <td>216918.046875</td>\n    </tr>\n    <tr>\n      <th>1998</th>\n      <td>1483.401489</td>\n      <td>45.448112</td>\n      <td>-75.232391</td>\n      <td>1.355263</td>\n      <td>16.715073</td>\n      <td>-0.437701</td>\n      <td>39.935268</td>\n      <td>16.746204</td>\n      <td>2.443847</td>\n      <td>39.611137</td>\n      <td>-0.124302</td>\n      <td>203515.890625</td>\n    </tr>\n    <tr>\n      <th>1999</th>\n      <td>1893.715332</td>\n      <td>45.472897</td>\n      <td>-75.185936</td>\n      <td>3.383940</td>\n      <td>14.983698</td>\n      <td>17.551525</td>\n      <td>54.723583</td>\n      <td>23.030132</td>\n      <td>8.216568</td>\n      <td>52.906948</td>\n      <td>0.259485</td>\n      <td>284486.781250</td>\n    </tr>\n  </tbody>\n</table>\n<p>2000 rows × 12 columns</p>\n</div>"
     },
     "execution_count": 162,
     "metadata": {},
     "output_type": "execute_result"
    }
   ],
   "source": [
    "fake_inverse=scaler.inverse_transform(fake)\n",
    "fake_tasks_df=pd.DataFrame(fake_inverse,columns=df.columns[:-1])\n",
    "fake_tasks_df"
   ],
   "metadata": {
    "collapsed": false,
    "pycharm": {
     "name": "#%%\n"
    }
   }
  },
  {
   "cell_type": "code",
   "execution_count": 163,
   "outputs": [],
   "source": [
    "fake_tasks_df.to_csv('Generated_fake_milicious_tasks.csv',index=False)"
   ],
   "metadata": {
    "collapsed": false,
    "pycharm": {
     "name": "#%%\n"
    }
   }
  },
  {
   "cell_type": "markdown",
   "source": [
    "### Test the goodness of our generation"
   ],
   "metadata": {
    "collapsed": false,
    "pycharm": {
     "name": "#%% md\n"
    }
   }
  },
  {
   "cell_type": "code",
   "execution_count": 164,
   "outputs": [
    {
     "data": {
      "text/plain": "1    1760\n0     240\ndtype: int64"
     },
     "execution_count": 164,
     "metadata": {},
     "output_type": "execute_result"
    }
   ],
   "source": [
    "mm = adaBoostClassifier.predict(fake_tasks_df)\n",
    "pd.DataFrame(mm).value_counts()"
   ],
   "metadata": {
    "collapsed": false,
    "pycharm": {
     "name": "#%%\n"
    }
   }
  },
  {
   "cell_type": "markdown",
   "source": [
    "### Here the model is wrong in 1760 and right in only 240 example and this is a good evidence that we succeeded in scammimg the model because all this tasks should be calssified as unligitmate"
   ],
   "metadata": {
    "collapsed": false,
    "pycharm": {
     "name": "#%% md\n"
    }
   }
  },
  {
   "cell_type": "markdown",
   "source": [
    "# Mix the generated fake tasks with the original test dataset to obtain a new test dataset"
   ],
   "metadata": {
    "collapsed": false,
    "pycharm": {
     "name": "#%% md\n"
    }
   }
  },
  {
   "cell_type": "markdown",
   "source": [
    "### Mixing step"
   ],
   "metadata": {
    "collapsed": false,
    "pycharm": {
     "name": "#%% md\n"
    }
   }
  },
  {
   "cell_type": "code",
   "execution_count": 165,
   "outputs": [
    {
     "data": {
      "text/plain": "                ID   Latitude  Longitude       Day       Hour     Minute  \\\n3779   1031.000000  45.556369 -75.201917  3.000000  11.000000   9.000000   \n755     209.000000  45.469987 -75.155623  4.000000  16.000000   8.000000   \n13131  3653.000000  45.536579 -75.161880  5.000000   8.000000  35.000000   \n344      94.000000  45.392164 -75.235236  4.000000   4.000000  36.000000   \n4672   1283.000000  45.496407 -75.183561  4.000000   4.000000   1.000000   \n...            ...        ...        ...       ...        ...        ...   \n1995   1584.148438  45.456936 -75.274055  2.278354  14.567842  15.549793   \n1996   2196.732178  45.482075 -75.240044  2.317201  11.519961  19.457003   \n1997   2915.278320  45.465050 -75.220856  3.776816  11.627173  17.813435   \n1998   1483.401489  45.448112 -75.232391  1.355263  16.715073  -0.437701   \n1999   1893.715332  45.472897 -75.185936  3.383940  14.983698  17.551525   \n\n        Duration  RemainingTime  Resources   Coverage  OnPeakHours  \\\n3779   40.000000      20.000000   1.000000  86.000000     0.000000   \n755    60.000000      10.000000   8.000000  53.000000     0.000000   \n13131  50.000000      30.000000   8.000000  63.000000     1.000000   \n344    40.000000      30.000000   6.000000  74.000000     0.000000   \n4672   50.000000      30.000000   5.000000  60.000000     0.000000   \n...          ...            ...        ...        ...          ...   \n1995   42.991623      23.734514   5.807235  51.328136     0.255321   \n1996   48.815395      41.061378   5.238188  57.359741     0.162162   \n1997   50.668060      37.507996   7.839029  63.592953    -0.026696   \n1998   39.935268      16.746204   2.443847  39.611137    -0.124302   \n1999   54.723583      23.030132   8.216568  52.906948     0.259485   \n\n          GridNumber  \n3779   319073.000000  \n755    178319.000000  \n13131  290926.000000  \n344     37549.000000  \n4672   215851.000000  \n...              ...  \n1995   154048.921875  \n1996   240674.828125  \n1997   216918.046875  \n1998   203515.890625  \n1999   284486.781250  \n\n[4897 rows x 12 columns]",
      "text/html": "<div>\n<style scoped>\n    .dataframe tbody tr th:only-of-type {\n        vertical-align: middle;\n    }\n\n    .dataframe tbody tr th {\n        vertical-align: top;\n    }\n\n    .dataframe thead th {\n        text-align: right;\n    }\n</style>\n<table border=\"1\" class=\"dataframe\">\n  <thead>\n    <tr style=\"text-align: right;\">\n      <th></th>\n      <th>ID</th>\n      <th>Latitude</th>\n      <th>Longitude</th>\n      <th>Day</th>\n      <th>Hour</th>\n      <th>Minute</th>\n      <th>Duration</th>\n      <th>RemainingTime</th>\n      <th>Resources</th>\n      <th>Coverage</th>\n      <th>OnPeakHours</th>\n      <th>GridNumber</th>\n    </tr>\n  </thead>\n  <tbody>\n    <tr>\n      <th>3779</th>\n      <td>1031.000000</td>\n      <td>45.556369</td>\n      <td>-75.201917</td>\n      <td>3.000000</td>\n      <td>11.000000</td>\n      <td>9.000000</td>\n      <td>40.000000</td>\n      <td>20.000000</td>\n      <td>1.000000</td>\n      <td>86.000000</td>\n      <td>0.000000</td>\n      <td>319073.000000</td>\n    </tr>\n    <tr>\n      <th>755</th>\n      <td>209.000000</td>\n      <td>45.469987</td>\n      <td>-75.155623</td>\n      <td>4.000000</td>\n      <td>16.000000</td>\n      <td>8.000000</td>\n      <td>60.000000</td>\n      <td>10.000000</td>\n      <td>8.000000</td>\n      <td>53.000000</td>\n      <td>0.000000</td>\n      <td>178319.000000</td>\n    </tr>\n    <tr>\n      <th>13131</th>\n      <td>3653.000000</td>\n      <td>45.536579</td>\n      <td>-75.161880</td>\n      <td>5.000000</td>\n      <td>8.000000</td>\n      <td>35.000000</td>\n      <td>50.000000</td>\n      <td>30.000000</td>\n      <td>8.000000</td>\n      <td>63.000000</td>\n      <td>1.000000</td>\n      <td>290926.000000</td>\n    </tr>\n    <tr>\n      <th>344</th>\n      <td>94.000000</td>\n      <td>45.392164</td>\n      <td>-75.235236</td>\n      <td>4.000000</td>\n      <td>4.000000</td>\n      <td>36.000000</td>\n      <td>40.000000</td>\n      <td>30.000000</td>\n      <td>6.000000</td>\n      <td>74.000000</td>\n      <td>0.000000</td>\n      <td>37549.000000</td>\n    </tr>\n    <tr>\n      <th>4672</th>\n      <td>1283.000000</td>\n      <td>45.496407</td>\n      <td>-75.183561</td>\n      <td>4.000000</td>\n      <td>4.000000</td>\n      <td>1.000000</td>\n      <td>50.000000</td>\n      <td>30.000000</td>\n      <td>5.000000</td>\n      <td>60.000000</td>\n      <td>0.000000</td>\n      <td>215851.000000</td>\n    </tr>\n    <tr>\n      <th>...</th>\n      <td>...</td>\n      <td>...</td>\n      <td>...</td>\n      <td>...</td>\n      <td>...</td>\n      <td>...</td>\n      <td>...</td>\n      <td>...</td>\n      <td>...</td>\n      <td>...</td>\n      <td>...</td>\n      <td>...</td>\n    </tr>\n    <tr>\n      <th>1995</th>\n      <td>1584.148438</td>\n      <td>45.456936</td>\n      <td>-75.274055</td>\n      <td>2.278354</td>\n      <td>14.567842</td>\n      <td>15.549793</td>\n      <td>42.991623</td>\n      <td>23.734514</td>\n      <td>5.807235</td>\n      <td>51.328136</td>\n      <td>0.255321</td>\n      <td>154048.921875</td>\n    </tr>\n    <tr>\n      <th>1996</th>\n      <td>2196.732178</td>\n      <td>45.482075</td>\n      <td>-75.240044</td>\n      <td>2.317201</td>\n      <td>11.519961</td>\n      <td>19.457003</td>\n      <td>48.815395</td>\n      <td>41.061378</td>\n      <td>5.238188</td>\n      <td>57.359741</td>\n      <td>0.162162</td>\n      <td>240674.828125</td>\n    </tr>\n    <tr>\n      <th>1997</th>\n      <td>2915.278320</td>\n      <td>45.465050</td>\n      <td>-75.220856</td>\n      <td>3.776816</td>\n      <td>11.627173</td>\n      <td>17.813435</td>\n      <td>50.668060</td>\n      <td>37.507996</td>\n      <td>7.839029</td>\n      <td>63.592953</td>\n      <td>-0.026696</td>\n      <td>216918.046875</td>\n    </tr>\n    <tr>\n      <th>1998</th>\n      <td>1483.401489</td>\n      <td>45.448112</td>\n      <td>-75.232391</td>\n      <td>1.355263</td>\n      <td>16.715073</td>\n      <td>-0.437701</td>\n      <td>39.935268</td>\n      <td>16.746204</td>\n      <td>2.443847</td>\n      <td>39.611137</td>\n      <td>-0.124302</td>\n      <td>203515.890625</td>\n    </tr>\n    <tr>\n      <th>1999</th>\n      <td>1893.715332</td>\n      <td>45.472897</td>\n      <td>-75.185936</td>\n      <td>3.383940</td>\n      <td>14.983698</td>\n      <td>17.551525</td>\n      <td>54.723583</td>\n      <td>23.030132</td>\n      <td>8.216568</td>\n      <td>52.906948</td>\n      <td>0.259485</td>\n      <td>284486.781250</td>\n    </tr>\n  </tbody>\n</table>\n<p>4897 rows × 12 columns</p>\n</div>"
     },
     "execution_count": 165,
     "metadata": {},
     "output_type": "execute_result"
    }
   ],
   "source": [
    "mixed_test_dataset=pd.concat([X_test,fake_tasks_df])\n",
    "mixed_test_dataset"
   ],
   "metadata": {
    "collapsed": false,
    "pycharm": {
     "name": "#%%\n"
    }
   }
  },
  {
   "cell_type": "markdown",
   "source": [
    "### We should label all these tasks as unligitimate tasks"
   ],
   "metadata": {
    "collapsed": false,
    "pycharm": {
     "name": "#%% md\n"
    }
   }
  },
  {
   "cell_type": "code",
   "execution_count": 166,
   "outputs": [
    {
     "data": {
      "text/plain": "3779     1\n755      0\n13131    0\n344      1\n4672     1\n        ..\n1995     0\n1996     0\n1997     0\n1998     0\n1999     0\nName: Ligitimacy, Length: 4897, dtype: int64"
     },
     "execution_count": 166,
     "metadata": {},
     "output_type": "execute_result"
    }
   ],
   "source": [
    "y_for_fake_tasks=pd.DataFrame({'Ligitimacy':[0]*2000},)\n",
    "# y_for_fake_tasks\n",
    "mixed_y_test=pd.concat([y_test,y_for_fake_tasks['Ligitimacy']])\n",
    "mixed_y_test"
   ],
   "metadata": {
    "collapsed": false,
    "pycharm": {
     "name": "#%%\n"
    }
   }
  },
  {
   "cell_type": "markdown",
   "source": [
    "# Obtain Adaboost and RF detection performance using the new test dataset and present results in bar chart"
   ],
   "metadata": {
    "collapsed": false,
    "pycharm": {
     "name": "#%% md\n"
    }
   }
  },
  {
   "cell_type": "code",
   "execution_count": 167,
   "outputs": [
    {
     "name": "stdout",
     "output_type": "stream",
     "text": [
      "AdaBoostClassifier accuracy for the mixed data= 0.6064937716969573\n",
      "RandomForestClassifier accuracy for the mixed data = 0.5934245456401879\n"
     ]
    },
    {
     "data": {
      "text/plain": "<AxesSubplot:>"
     },
     "execution_count": 167,
     "metadata": {},
     "output_type": "execute_result"
    },
    {
     "data": {
      "text/plain": "<Figure size 720x720 with 1 Axes>",
      "image/png": "[encoded data removed]"
     },
     "metadata": {
      "needs_background": "light"
     },
     "output_type": "display_data"
    }
   ],
   "source": [
    "adaboost_accuracy=adaBoostClassifier.score(mixed_test_dataset,mixed_y_test)\n",
    "rf_accuracy=randomForestClassifier.score(mixed_test_dataset,mixed_y_test)\n",
    "print(f'AdaBoostClassifier accuracy for the mixed data= {adaboost_accuracy}')\n",
    "print(f'RandomForestClassifier accuracy for the mixed data = {rf_accuracy}')\n",
    "plt.figure(figsize=(10,10))\n",
    "sns.barplot(x=['AdaBoost','RandomForest'],y=[adaboost_accuracy,rf_accuracy],)"
   ],
   "metadata": {
    "collapsed": false,
    "pycharm": {
     "name": "#%%\n"
    }
   }
  },
  {
   "cell_type": "markdown",
   "source": [
    "### We can notice that in Adaboost the accuracy has been decreased from 0.94 to 0.60 .\n",
    "### and in Random forest the accuracy has been decreased from 0.99 to 0.59.\n",
    "## So, our generation is good and scammed the models"
   ],
   "metadata": {
    "collapsed": false,
    "pycharm": {
     "name": "#%% md\n"
    }
   }
  },
  {
   "cell_type": "markdown",
   "source": [
    "# Consider the Discriminator to as the first level classifier and RF/Adaboost as the second level classifier"
   ],
   "metadata": {
    "collapsed": false,
    "pycharm": {
     "name": "#%% md\n"
    }
   }
  },
  {
   "cell_type": "markdown",
   "source": [
    "### Because of our discriminator is trained on scaled data, so we will scale this data"
   ],
   "metadata": {
    "collapsed": false,
    "pycharm": {
     "name": "#%% md\n"
    }
   }
  },
  {
   "cell_type": "code",
   "execution_count": 168,
   "outputs": [
    {
     "data": {
      "text/plain": "array([[ 0.25756439,  0.87078121,  0.53914657, ...,  0.8       ,\n         0.        ,  0.85363261],\n       [ 0.052013  ,  0.4764824 ,  0.72794642, ...,  0.32857143,\n         0.        ,  0.4878012 ],\n       [ 0.91322831,  0.78044984,  0.70242734, ...,  0.47142857,\n         1.        ,  0.7804762 ],\n       ...,\n       [ 0.72875177,  0.45394682,  0.46190717, ...,  0.47989932,\n        -0.02669582,  0.58812335],\n       [ 0.37069305,  0.37663538,  0.41486147, ...,  0.13730196,\n        -0.12430178,  0.55329003],\n       [ 0.47329716,  0.4897643 ,  0.60431999, ...,  0.32724212,\n         0.25948471,  0.76374014]])"
     },
     "execution_count": 168,
     "metadata": {},
     "output_type": "execute_result"
    }
   ],
   "source": [
    "mixed_test_dataset_scaled=scaler.transform(mixed_test_dataset)\n",
    "mixed_test_dataset_scaled"
   ],
   "metadata": {
    "collapsed": false,
    "pycharm": {
     "name": "#%%\n"
    }
   }
  },
  {
   "cell_type": "markdown",
   "source": [
    "### Concat the labels as one hot encoding"
   ],
   "metadata": {
    "collapsed": false,
    "pycharm": {
     "name": "#%% md\n"
    }
   }
  },
  {
   "cell_type": "code",
   "execution_count": 169,
   "outputs": [
    {
     "data": {
      "text/plain": "<tf.Tensor: shape=(4897, 14), dtype=float64, numpy=\narray([[0.25756439, 0.87078121, 0.53914657, ..., 0.85363261, 0.        ,\n        1.        ],\n       [0.052013  , 0.4764824 , 0.72794642, ..., 0.4878012 , 1.        ,\n        0.        ],\n       [0.91322831, 0.78044984, 0.70242734, ..., 0.7804762 , 1.        ,\n        0.        ],\n       ...,\n       [0.72875177, 0.45394682, 0.46190717, ..., 0.58812335, 1.        ,\n        0.        ],\n       [0.37069305, 0.37663538, 0.41486147, ..., 0.55329003, 1.        ,\n        0.        ],\n       [0.47329716, 0.4897643 , 0.60431999, ..., 0.76374014, 1.        ,\n        0.        ]])>"
     },
     "execution_count": 169,
     "metadata": {},
     "output_type": "execute_result"
    }
   ],
   "source": [
    "one_hot_examples_for_mixed_dataset = keras.utils.to_categorical(mixed_y_test, 2)\n",
    "mixed_test_dataset_scaled_and_labels = tf.concat([mixed_test_dataset_scaled, one_hot_examples_for_mixed_dataset], 1)\n",
    "mixed_test_dataset_scaled_and_labels"
   ],
   "metadata": {
    "collapsed": false,
    "pycharm": {
     "name": "#%%\n"
    }
   }
  },
  {
   "cell_type": "markdown",
   "source": [
    "### Detect the real and fake tasks using the discriminator as first level classification"
   ],
   "metadata": {
    "collapsed": false,
    "pycharm": {
     "name": "#%% md\n"
    }
   }
  },
  {
   "cell_type": "code",
   "execution_count": 170,
   "outputs": [],
   "source": [
    "trained_critic=wgan.discriminator"
   ],
   "metadata": {
    "collapsed": false,
    "pycharm": {
     "name": "#%%\n"
    }
   }
  },
  {
   "cell_type": "code",
   "execution_count": 171,
   "outputs": [
    {
     "name": "stdout",
     "output_type": "stream",
     "text": [
      "394/394 [==============================] - 1s 3ms/step\n"
     ]
    },
    {
     "data": {
      "text/plain": "                  0\ncount  12587.000000\nmean      -0.915395\nstd        0.187839\nmin       -1.596453\n25%       -1.040667\n50%       -0.911122\n75%       -0.786402\nmax       -0.337110",
      "text/html": "<div>\n<style scoped>\n    .dataframe tbody tr th:only-of-type {\n        vertical-align: middle;\n    }\n\n    .dataframe tbody tr th {\n        vertical-align: top;\n    }\n\n    .dataframe thead th {\n        text-align: right;\n    }\n</style>\n<table border=\"1\" class=\"dataframe\">\n  <thead>\n    <tr style=\"text-align: right;\">\n      <th></th>\n      <th>0</th>\n    </tr>\n  </thead>\n  <tbody>\n    <tr>\n      <th>count</th>\n      <td>12587.000000</td>\n    </tr>\n    <tr>\n      <th>mean</th>\n      <td>-0.915395</td>\n    </tr>\n    <tr>\n      <th>std</th>\n      <td>0.187839</td>\n    </tr>\n    <tr>\n      <th>min</th>\n      <td>-1.596453</td>\n    </tr>\n    <tr>\n      <th>25%</th>\n      <td>-1.040667</td>\n    </tr>\n    <tr>\n      <th>50%</th>\n      <td>-0.911122</td>\n    </tr>\n    <tr>\n      <th>75%</th>\n      <td>-0.786402</td>\n    </tr>\n    <tr>\n      <th>max</th>\n      <td>-0.337110</td>\n    </tr>\n  </tbody>\n</table>\n</div>"
     },
     "execution_count": 171,
     "metadata": {},
     "output_type": "execute_result"
    }
   ],
   "source": [
    "ligitimate_tasks=df[df['Ligitimacy']==1]\n",
    "ligitimate_tasks_without_labels=ligitimate_tasks.drop('Ligitimacy',axis=1)\n",
    "ligitimate_tasks_without_labels=scaler.transform(ligitimate_tasks_without_labels)\n",
    "ligitimate_tasks_without_labels=tf.concat([ligitimate_tasks_without_labels,keras.utils.to_categorical([1]*ligitimate_tasks_without_labels.shape[0], 2)],axis=1)\n",
    "ligitimate_tasks_without_labels=pd.DataFrame(ligitimate_tasks_without_labels)\n",
    "ligitimate_tasks_pred=pd.DataFrame(trained_critic.predict(ligitimate_tasks_without_labels))\n",
    "ligitimate_tasks_pred.describe()"
   ],
   "metadata": {
    "collapsed": false,
    "pycharm": {
     "name": "#%%\n"
    }
   }
  },
  {
   "cell_type": "code",
   "execution_count": 172,
   "outputs": [
    {
     "name": "stdout",
     "output_type": "stream",
     "text": [
      "60/60 [==============================] - 0s 3ms/step\n"
     ]
    },
    {
     "data": {
      "text/plain": "                 0\ncount  1897.000000\nmean     -0.628636\nstd       0.204406\nmin      -1.232015\n25%      -0.778623\n50%      -0.646811\n75%      -0.444343\nmax      -0.203142",
      "text/html": "<div>\n<style scoped>\n    .dataframe tbody tr th:only-of-type {\n        vertical-align: middle;\n    }\n\n    .dataframe tbody tr th {\n        vertical-align: top;\n    }\n\n    .dataframe thead th {\n        text-align: right;\n    }\n</style>\n<table border=\"1\" class=\"dataframe\">\n  <thead>\n    <tr style=\"text-align: right;\">\n      <th></th>\n      <th>0</th>\n    </tr>\n  </thead>\n  <tbody>\n    <tr>\n      <th>count</th>\n      <td>1897.000000</td>\n    </tr>\n    <tr>\n      <th>mean</th>\n      <td>-0.628636</td>\n    </tr>\n    <tr>\n      <th>std</th>\n      <td>0.204406</td>\n    </tr>\n    <tr>\n      <th>min</th>\n      <td>-1.232015</td>\n    </tr>\n    <tr>\n      <th>25%</th>\n      <td>-0.778623</td>\n    </tr>\n    <tr>\n      <th>50%</th>\n      <td>-0.646811</td>\n    </tr>\n    <tr>\n      <th>75%</th>\n      <td>-0.444343</td>\n    </tr>\n    <tr>\n      <th>max</th>\n      <td>-0.203142</td>\n    </tr>\n  </tbody>\n</table>\n</div>"
     },
     "execution_count": 172,
     "metadata": {},
     "output_type": "execute_result"
    }
   ],
   "source": [
    "ligitimate_tasks=df[df['Ligitimacy']==0]\n",
    "ligitimate_tasks_without_labels=ligitimate_tasks.drop('Ligitimacy',axis=1)\n",
    "ligitimate_tasks_without_labels=scaler.transform(ligitimate_tasks_without_labels)\n",
    "ligitimate_tasks_without_labels=tf.concat([ligitimate_tasks_without_labels,keras.utils.to_categorical([0]*ligitimate_tasks_without_labels.shape[0], 2)],axis=1)\n",
    "ligitimate_tasks_without_labels=pd.DataFrame(ligitimate_tasks_without_labels)\n",
    "ligitimate_tasks_pred=pd.DataFrame(trained_critic.predict(ligitimate_tasks_without_labels))\n",
    "ligitimate_tasks_pred.describe()"
   ],
   "metadata": {
    "collapsed": false,
    "pycharm": {
     "name": "#%%\n"
    }
   }
  },
  {
   "cell_type": "code",
   "execution_count": null,
   "outputs": [],
   "source": [],
   "metadata": {
    "collapsed": false,
    "pycharm": {
     "name": "#%%\n"
    }
   }
  }
 ],
 "metadata": {
  "colab": {
   "collapsed_sections": [],
   "name": "wgan_gp",
   "provenance": [],
   "toc_visible": true
  },
  "kernelspec": {
   "display_name": "Python 3",
   "language": "python",
   "name": "python3"
  },
  "language_info": {
   "codemirror_mode": {
    "name": "ipython",
    "version": 3
   },
   "file_extension": ".py",
   "mimetype": "text/x-python",
   "name": "python",
   "nbconvert_exporter": "python",
   "pygments_lexer": "ipython3",
   "version": "3.7.0"
  }
 },
 "nbformat": 4,
 "nbformat_minor": 0
}